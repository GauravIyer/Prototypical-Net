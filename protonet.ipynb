{
  "nbformat": 4,
  "nbformat_minor": 0,
  "metadata": {
    "colab": {
      "name": "protonet.ipynb",
      "provenance": []
    },
    "kernelspec": {
      "name": "python3",
      "display_name": "Python 3"
    }
  },
  "cells": [
    {
      "cell_type": "code",
      "metadata": {
        "id": "yEaIj3YljXT4",
        "colab_type": "code",
        "colab": {}
      },
      "source": [
        "import numpy as np\n",
        "import torch\n",
        "import torch.nn as nn\n",
        "import torch.optim as optim\n",
        "import matplotlib\n",
        "import matplotlib.pyplot as plt\n",
        "from torch.utils.data.dataset import Dataset\n",
        "from collections import OrderedDict\n",
        "from tqdm import tqdm"
      ],
      "execution_count": 0,
      "outputs": []
    },
    {
      "cell_type": "code",
      "metadata": {
        "id": "3ZWGb0CUNPV2",
        "colab_type": "code",
        "colab": {}
      },
      "source": [
        "from prototypical_batch_sampler import PrototypicalBatchSampler\n",
        "from prototypical_loss import prototypical_loss\n",
        "from omniglot_dataset import OmniglotDataset"
      ],
      "execution_count": 0,
      "outputs": []
    },
    {
      "cell_type": "code",
      "metadata": {
        "id": "5A9T2ve13R1T",
        "colab_type": "code",
        "colab": {}
      },
      "source": [
        "device=torch.device(\"cuda:0\" if (torch.cuda.is_available()) else \"cpu\")"
      ],
      "execution_count": 0,
      "outputs": []
    },
    {
      "cell_type": "code",
      "metadata": {
        "id": "h734HYM_uA4K",
        "colab_type": "code",
        "colab": {}
      },
      "source": [
        "def conv_block(in_channels,out_channels,**kwargs):\n",
        "  return nn.Sequential(\n",
        "      nn.Conv2d(in_channels,out_channels,3,padding=1),\n",
        "      nn.BatchNorm2d(out_channels),\n",
        "      nn.ReLU(),\n",
        "      nn.MaxPool2d(2)\n",
        "  )\n",
        "\n",
        "class PrototypicalNet(nn.Module):\n",
        "  def __init__(self,x_dim=1,hidden_dim=64):\n",
        "    super(PrototypicalNet,self).__init__()\n",
        "    self.encoder=nn.Sequential(\n",
        "        conv_block(x_dim,hidden_dim),\n",
        "        conv_block(hidden_dim,hidden_dim),\n",
        "        conv_block(hidden_dim,hidden_dim),\n",
        "        conv_block(hidden_dim,hidden_dim)\n",
        "    )\n",
        "\n",
        "  def forward(self,x):\n",
        "    x=self.encoder(x)\n",
        "    return x.view(x.size(0),-1)"
      ],
      "execution_count": 0,
      "outputs": []
    },
    {
      "cell_type": "code",
      "metadata": {
        "id": "k6i09CjePYOv",
        "colab_type": "code",
        "colab": {}
      },
      "source": [
        "num_ways=5\n",
        "num_support=5\n",
        "num_query=5\n",
        "num_episodes=100\n",
        "num_epochs=50"
      ],
      "execution_count": 0,
      "outputs": []
    },
    {
      "cell_type": "code",
      "metadata": {
        "id": "ynWpeXiE4d2r",
        "colab_type": "code",
        "colab": {
          "base_uri": "https://localhost:8080/",
          "height": 52
        },
        "outputId": "888190fe-5549-493f-adaf-6d1abd836988"
      },
      "source": [
        "trainset=OmniglotDataset(mode=\"train\",root=\"data\")\n",
        "num_train_classes=len(np.unique(trainset.y))\n",
        "sampler=PrototypicalBatchSampler(trainset.y,num_ways,num_support+num_query,num_episodes)\n",
        "trainloader=torch.utils.data.DataLoader(trainset,batch_sampler=sampler)"
      ],
      "execution_count": 40,
      "outputs": [
        {
          "output_type": "stream",
          "text": [
            "== Dataset: Found 82240 items \n",
            "== Dataset: Found 4112 classes\n"
          ],
          "name": "stdout"
        }
      ]
    },
    {
      "cell_type": "code",
      "metadata": {
        "id": "5-Dl7GvvQuGG",
        "colab_type": "code",
        "colab": {}
      },
      "source": [
        "net=PrototypicalNet()\n",
        "net=net.to(device)\n",
        "opt=torch.optim.Adam(net.parameters(),lr=1e-3)\n",
        "lr_scheduler=torch.optim.lr_scheduler.StepLR(opt,step_size=20,gamma=0.5)"
      ],
      "execution_count": 0,
      "outputs": []
    },
    {
      "cell_type": "code",
      "metadata": {
        "id": "VXEeg-CuO0vN",
        "colab_type": "code",
        "colab": {
          "base_uri": "https://localhost:8080/",
          "height": 1000
        },
        "outputId": "9bfa1f52-818b-47b6-8839-0589830e5204"
      },
      "source": [
        "losses=[]\n",
        "for epoch in range(1,num_epochs+1):\n",
        "  running_loss=0\n",
        "  print('=== Epoch: {} ==='.format(epoch))\n",
        "  train_iterator=iter(trainloader)\n",
        "  for batch in tqdm(train_iterator):\n",
        "    opt.zero_grad()\n",
        "    i,l=batch\n",
        "    i=i.to(device)\n",
        "    l=l.to(device)\n",
        "    out=net(i)\n",
        "    loss,_=prototypical_loss(out,target=l,n_support=num_support)\n",
        "    loss.backward()\n",
        "    opt.step()\n",
        "    running_loss+=loss\n",
        "  losses.append(running_loss/num_episodes)"
      ],
      "execution_count": 52,
      "outputs": [
        {
          "output_type": "stream",
          "text": [
            "  1%|          | 1/100 [00:00<00:15,  6.58it/s]"
          ],
          "name": "stderr"
        },
        {
          "output_type": "stream",
          "text": [
            "=== Epoch: 1 ===\n"
          ],
          "name": "stdout"
        },
        {
          "output_type": "stream",
          "text": [
            "100%|██████████| 100/100 [00:14<00:00,  6.70it/s]\n",
            "  1%|          | 1/100 [00:00<00:15,  6.35it/s]"
          ],
          "name": "stderr"
        },
        {
          "output_type": "stream",
          "text": [
            "=== Epoch: 2 ===\n"
          ],
          "name": "stdout"
        },
        {
          "output_type": "stream",
          "text": [
            "100%|██████████| 100/100 [00:15<00:00,  6.64it/s]\n",
            "  1%|          | 1/100 [00:00<00:14,  6.64it/s]"
          ],
          "name": "stderr"
        },
        {
          "output_type": "stream",
          "text": [
            "=== Epoch: 3 ===\n"
          ],
          "name": "stdout"
        },
        {
          "output_type": "stream",
          "text": [
            "100%|██████████| 100/100 [00:14<00:00,  6.72it/s]\n",
            "  1%|          | 1/100 [00:00<00:16,  6.07it/s]"
          ],
          "name": "stderr"
        },
        {
          "output_type": "stream",
          "text": [
            "=== Epoch: 4 ===\n"
          ],
          "name": "stdout"
        },
        {
          "output_type": "stream",
          "text": [
            "100%|██████████| 100/100 [00:14<00:00,  6.73it/s]\n",
            "  1%|          | 1/100 [00:00<00:14,  6.91it/s]"
          ],
          "name": "stderr"
        },
        {
          "output_type": "stream",
          "text": [
            "=== Epoch: 5 ===\n"
          ],
          "name": "stdout"
        },
        {
          "output_type": "stream",
          "text": [
            "100%|██████████| 100/100 [00:14<00:00,  6.72it/s]\n",
            "  1%|          | 1/100 [00:00<00:14,  6.65it/s]"
          ],
          "name": "stderr"
        },
        {
          "output_type": "stream",
          "text": [
            "=== Epoch: 6 ===\n"
          ],
          "name": "stdout"
        },
        {
          "output_type": "stream",
          "text": [
            "100%|██████████| 100/100 [00:14<00:00,  6.70it/s]\n",
            "  1%|          | 1/100 [00:00<00:14,  6.82it/s]"
          ],
          "name": "stderr"
        },
        {
          "output_type": "stream",
          "text": [
            "=== Epoch: 7 ===\n"
          ],
          "name": "stdout"
        },
        {
          "output_type": "stream",
          "text": [
            "100%|██████████| 100/100 [00:17<00:00,  5.57it/s]\n",
            "  1%|          | 1/100 [00:00<00:14,  6.85it/s]"
          ],
          "name": "stderr"
        },
        {
          "output_type": "stream",
          "text": [
            "=== Epoch: 8 ===\n"
          ],
          "name": "stdout"
        },
        {
          "output_type": "stream",
          "text": [
            "100%|██████████| 100/100 [00:15<00:00,  6.60it/s]\n",
            "  1%|          | 1/100 [00:00<00:14,  6.61it/s]"
          ],
          "name": "stderr"
        },
        {
          "output_type": "stream",
          "text": [
            "=== Epoch: 9 ===\n"
          ],
          "name": "stdout"
        },
        {
          "output_type": "stream",
          "text": [
            "100%|██████████| 100/100 [00:14<00:00,  6.68it/s]\n",
            "  1%|          | 1/100 [00:00<00:14,  6.85it/s]"
          ],
          "name": "stderr"
        },
        {
          "output_type": "stream",
          "text": [
            "=== Epoch: 10 ===\n"
          ],
          "name": "stdout"
        },
        {
          "output_type": "stream",
          "text": [
            "100%|██████████| 100/100 [00:14<00:00,  6.70it/s]\n",
            "  1%|          | 1/100 [00:00<00:14,  6.64it/s]"
          ],
          "name": "stderr"
        },
        {
          "output_type": "stream",
          "text": [
            "=== Epoch: 11 ===\n"
          ],
          "name": "stdout"
        },
        {
          "output_type": "stream",
          "text": [
            "100%|██████████| 100/100 [00:14<00:00,  6.74it/s]\n",
            "  1%|          | 1/100 [00:00<00:14,  6.76it/s]"
          ],
          "name": "stderr"
        },
        {
          "output_type": "stream",
          "text": [
            "=== Epoch: 12 ===\n"
          ],
          "name": "stdout"
        },
        {
          "output_type": "stream",
          "text": [
            "100%|██████████| 100/100 [00:14<00:00,  6.71it/s]\n",
            "  1%|          | 1/100 [00:00<00:14,  6.67it/s]"
          ],
          "name": "stderr"
        },
        {
          "output_type": "stream",
          "text": [
            "=== Epoch: 13 ===\n"
          ],
          "name": "stdout"
        },
        {
          "output_type": "stream",
          "text": [
            "100%|██████████| 100/100 [00:14<00:00,  6.74it/s]\n",
            "  1%|          | 1/100 [00:00<00:14,  6.88it/s]"
          ],
          "name": "stderr"
        },
        {
          "output_type": "stream",
          "text": [
            "=== Epoch: 14 ===\n"
          ],
          "name": "stdout"
        },
        {
          "output_type": "stream",
          "text": [
            "100%|██████████| 100/100 [00:14<00:00,  6.72it/s]\n",
            "  1%|          | 1/100 [00:00<00:14,  6.87it/s]"
          ],
          "name": "stderr"
        },
        {
          "output_type": "stream",
          "text": [
            "=== Epoch: 15 ===\n"
          ],
          "name": "stdout"
        },
        {
          "output_type": "stream",
          "text": [
            "100%|██████████| 100/100 [00:14<00:00,  6.74it/s]\n",
            "  1%|          | 1/100 [00:00<00:15,  6.55it/s]"
          ],
          "name": "stderr"
        },
        {
          "output_type": "stream",
          "text": [
            "=== Epoch: 16 ===\n"
          ],
          "name": "stdout"
        },
        {
          "output_type": "stream",
          "text": [
            "100%|██████████| 100/100 [00:14<00:00,  6.69it/s]\n",
            "  1%|          | 1/100 [00:00<00:14,  6.93it/s]"
          ],
          "name": "stderr"
        },
        {
          "output_type": "stream",
          "text": [
            "=== Epoch: 17 ===\n"
          ],
          "name": "stdout"
        },
        {
          "output_type": "stream",
          "text": [
            "100%|██████████| 100/100 [00:14<00:00,  6.74it/s]\n",
            "  1%|          | 1/100 [00:00<00:15,  6.48it/s]"
          ],
          "name": "stderr"
        },
        {
          "output_type": "stream",
          "text": [
            "=== Epoch: 18 ===\n"
          ],
          "name": "stdout"
        },
        {
          "output_type": "stream",
          "text": [
            "100%|██████████| 100/100 [00:14<00:00,  6.69it/s]\n",
            "  1%|          | 1/100 [00:00<00:14,  6.71it/s]"
          ],
          "name": "stderr"
        },
        {
          "output_type": "stream",
          "text": [
            "=== Epoch: 19 ===\n"
          ],
          "name": "stdout"
        },
        {
          "output_type": "stream",
          "text": [
            "100%|██████████| 100/100 [00:14<00:00,  6.68it/s]\n",
            "  1%|          | 1/100 [00:00<00:14,  6.63it/s]"
          ],
          "name": "stderr"
        },
        {
          "output_type": "stream",
          "text": [
            "=== Epoch: 20 ===\n"
          ],
          "name": "stdout"
        },
        {
          "output_type": "stream",
          "text": [
            "100%|██████████| 100/100 [00:14<00:00,  6.69it/s]\n",
            "  1%|          | 1/100 [00:00<00:14,  6.76it/s]"
          ],
          "name": "stderr"
        },
        {
          "output_type": "stream",
          "text": [
            "=== Epoch: 21 ===\n"
          ],
          "name": "stdout"
        },
        {
          "output_type": "stream",
          "text": [
            "100%|██████████| 100/100 [00:14<00:00,  6.74it/s]\n",
            "  1%|          | 1/100 [00:00<00:14,  6.82it/s]"
          ],
          "name": "stderr"
        },
        {
          "output_type": "stream",
          "text": [
            "=== Epoch: 22 ===\n"
          ],
          "name": "stdout"
        },
        {
          "output_type": "stream",
          "text": [
            "100%|██████████| 100/100 [00:14<00:00,  6.70it/s]\n",
            "  1%|          | 1/100 [00:00<00:14,  6.81it/s]"
          ],
          "name": "stderr"
        },
        {
          "output_type": "stream",
          "text": [
            "=== Epoch: 23 ===\n"
          ],
          "name": "stdout"
        },
        {
          "output_type": "stream",
          "text": [
            "100%|██████████| 100/100 [00:14<00:00,  6.76it/s]\n",
            "  1%|          | 1/100 [00:00<00:15,  6.38it/s]"
          ],
          "name": "stderr"
        },
        {
          "output_type": "stream",
          "text": [
            "=== Epoch: 24 ===\n"
          ],
          "name": "stdout"
        },
        {
          "output_type": "stream",
          "text": [
            "100%|██████████| 100/100 [00:14<00:00,  6.68it/s]\n",
            "  1%|          | 1/100 [00:00<00:14,  6.68it/s]"
          ],
          "name": "stderr"
        },
        {
          "output_type": "stream",
          "text": [
            "=== Epoch: 25 ===\n"
          ],
          "name": "stdout"
        },
        {
          "output_type": "stream",
          "text": [
            "100%|██████████| 100/100 [00:14<00:00,  6.72it/s]\n",
            "  1%|          | 1/100 [00:00<00:14,  6.75it/s]"
          ],
          "name": "stderr"
        },
        {
          "output_type": "stream",
          "text": [
            "=== Epoch: 26 ===\n"
          ],
          "name": "stdout"
        },
        {
          "output_type": "stream",
          "text": [
            "100%|██████████| 100/100 [00:14<00:00,  6.70it/s]\n",
            "  1%|          | 1/100 [00:00<00:15,  6.59it/s]"
          ],
          "name": "stderr"
        },
        {
          "output_type": "stream",
          "text": [
            "=== Epoch: 27 ===\n"
          ],
          "name": "stdout"
        },
        {
          "output_type": "stream",
          "text": [
            "100%|██████████| 100/100 [00:14<00:00,  6.73it/s]\n",
            "  1%|          | 1/100 [00:00<00:14,  6.82it/s]"
          ],
          "name": "stderr"
        },
        {
          "output_type": "stream",
          "text": [
            "=== Epoch: 28 ===\n"
          ],
          "name": "stdout"
        },
        {
          "output_type": "stream",
          "text": [
            "100%|██████████| 100/100 [00:14<00:00,  6.72it/s]\n",
            "  1%|          | 1/100 [00:00<00:14,  6.98it/s]"
          ],
          "name": "stderr"
        },
        {
          "output_type": "stream",
          "text": [
            "=== Epoch: 29 ===\n"
          ],
          "name": "stdout"
        },
        {
          "output_type": "stream",
          "text": [
            "100%|██████████| 100/100 [00:15<00:00,  6.61it/s]\n",
            "  1%|          | 1/100 [00:00<00:14,  6.74it/s]"
          ],
          "name": "stderr"
        },
        {
          "output_type": "stream",
          "text": [
            "=== Epoch: 30 ===\n"
          ],
          "name": "stdout"
        },
        {
          "output_type": "stream",
          "text": [
            "100%|██████████| 100/100 [00:14<00:00,  6.75it/s]\n",
            "  1%|          | 1/100 [00:00<00:14,  6.90it/s]"
          ],
          "name": "stderr"
        },
        {
          "output_type": "stream",
          "text": [
            "=== Epoch: 31 ===\n"
          ],
          "name": "stdout"
        },
        {
          "output_type": "stream",
          "text": [
            "100%|██████████| 100/100 [00:14<00:00,  6.80it/s]\n",
            "  1%|          | 1/100 [00:00<00:14,  6.81it/s]"
          ],
          "name": "stderr"
        },
        {
          "output_type": "stream",
          "text": [
            "=== Epoch: 32 ===\n"
          ],
          "name": "stdout"
        },
        {
          "output_type": "stream",
          "text": [
            "100%|██████████| 100/100 [00:14<00:00,  6.77it/s]\n",
            "  1%|          | 1/100 [00:00<00:16,  6.14it/s]"
          ],
          "name": "stderr"
        },
        {
          "output_type": "stream",
          "text": [
            "=== Epoch: 33 ===\n"
          ],
          "name": "stdout"
        },
        {
          "output_type": "stream",
          "text": [
            "100%|██████████| 100/100 [00:14<00:00,  6.74it/s]\n",
            "  1%|          | 1/100 [00:00<00:14,  6.90it/s]"
          ],
          "name": "stderr"
        },
        {
          "output_type": "stream",
          "text": [
            "=== Epoch: 34 ===\n"
          ],
          "name": "stdout"
        },
        {
          "output_type": "stream",
          "text": [
            "100%|██████████| 100/100 [00:14<00:00,  6.71it/s]\n",
            "  1%|          | 1/100 [00:00<00:14,  6.80it/s]"
          ],
          "name": "stderr"
        },
        {
          "output_type": "stream",
          "text": [
            "=== Epoch: 35 ===\n"
          ],
          "name": "stdout"
        },
        {
          "output_type": "stream",
          "text": [
            "100%|██████████| 100/100 [00:14<00:00,  6.70it/s]\n",
            "  1%|          | 1/100 [00:00<00:14,  6.76it/s]"
          ],
          "name": "stderr"
        },
        {
          "output_type": "stream",
          "text": [
            "=== Epoch: 36 ===\n"
          ],
          "name": "stdout"
        },
        {
          "output_type": "stream",
          "text": [
            "100%|██████████| 100/100 [00:14<00:00,  6.71it/s]\n",
            "  1%|          | 1/100 [00:00<00:15,  6.53it/s]"
          ],
          "name": "stderr"
        },
        {
          "output_type": "stream",
          "text": [
            "=== Epoch: 37 ===\n"
          ],
          "name": "stdout"
        },
        {
          "output_type": "stream",
          "text": [
            "100%|██████████| 100/100 [00:14<00:00,  6.69it/s]\n",
            "  1%|          | 1/100 [00:00<00:14,  6.72it/s]"
          ],
          "name": "stderr"
        },
        {
          "output_type": "stream",
          "text": [
            "=== Epoch: 38 ===\n"
          ],
          "name": "stdout"
        },
        {
          "output_type": "stream",
          "text": [
            "100%|██████████| 100/100 [00:15<00:00,  6.66it/s]\n",
            "  1%|          | 1/100 [00:00<00:14,  6.84it/s]"
          ],
          "name": "stderr"
        },
        {
          "output_type": "stream",
          "text": [
            "=== Epoch: 39 ===\n"
          ],
          "name": "stdout"
        },
        {
          "output_type": "stream",
          "text": [
            "100%|██████████| 100/100 [00:15<00:00,  6.65it/s]\n",
            "  1%|          | 1/100 [00:00<00:14,  6.80it/s]"
          ],
          "name": "stderr"
        },
        {
          "output_type": "stream",
          "text": [
            "=== Epoch: 40 ===\n"
          ],
          "name": "stdout"
        },
        {
          "output_type": "stream",
          "text": [
            "100%|██████████| 100/100 [00:14<00:00,  6.69it/s]\n",
            "  1%|          | 1/100 [00:00<00:14,  6.62it/s]"
          ],
          "name": "stderr"
        },
        {
          "output_type": "stream",
          "text": [
            "=== Epoch: 41 ===\n"
          ],
          "name": "stdout"
        },
        {
          "output_type": "stream",
          "text": [
            "100%|██████████| 100/100 [00:14<00:00,  6.72it/s]\n",
            "  1%|          | 1/100 [00:00<00:14,  6.69it/s]"
          ],
          "name": "stderr"
        },
        {
          "output_type": "stream",
          "text": [
            "=== Epoch: 42 ===\n"
          ],
          "name": "stdout"
        },
        {
          "output_type": "stream",
          "text": [
            "100%|██████████| 100/100 [00:15<00:00,  6.66it/s]\n",
            "  1%|          | 1/100 [00:00<00:16,  5.94it/s]"
          ],
          "name": "stderr"
        },
        {
          "output_type": "stream",
          "text": [
            "=== Epoch: 43 ===\n"
          ],
          "name": "stdout"
        },
        {
          "output_type": "stream",
          "text": [
            "100%|██████████| 100/100 [00:14<00:00,  6.74it/s]\n",
            "  1%|          | 1/100 [00:00<00:14,  6.85it/s]"
          ],
          "name": "stderr"
        },
        {
          "output_type": "stream",
          "text": [
            "=== Epoch: 44 ===\n"
          ],
          "name": "stdout"
        },
        {
          "output_type": "stream",
          "text": [
            "100%|██████████| 100/100 [00:14<00:00,  6.76it/s]\n",
            "  1%|          | 1/100 [00:00<00:14,  6.79it/s]"
          ],
          "name": "stderr"
        },
        {
          "output_type": "stream",
          "text": [
            "=== Epoch: 45 ===\n"
          ],
          "name": "stdout"
        },
        {
          "output_type": "stream",
          "text": [
            "100%|██████████| 100/100 [00:14<00:00,  6.74it/s]\n",
            "  1%|          | 1/100 [00:00<00:14,  6.91it/s]"
          ],
          "name": "stderr"
        },
        {
          "output_type": "stream",
          "text": [
            "=== Epoch: 46 ===\n"
          ],
          "name": "stdout"
        },
        {
          "output_type": "stream",
          "text": [
            "100%|██████████| 100/100 [00:14<00:00,  6.75it/s]\n",
            "  1%|          | 1/100 [00:00<00:14,  6.69it/s]"
          ],
          "name": "stderr"
        },
        {
          "output_type": "stream",
          "text": [
            "=== Epoch: 47 ===\n"
          ],
          "name": "stdout"
        },
        {
          "output_type": "stream",
          "text": [
            "100%|██████████| 100/100 [00:14<00:00,  6.78it/s]\n",
            "  1%|          | 1/100 [00:00<00:14,  6.97it/s]"
          ],
          "name": "stderr"
        },
        {
          "output_type": "stream",
          "text": [
            "=== Epoch: 48 ===\n"
          ],
          "name": "stdout"
        },
        {
          "output_type": "stream",
          "text": [
            "100%|██████████| 100/100 [00:17<00:00,  5.81it/s]\n",
            "  1%|          | 1/100 [00:00<00:14,  6.86it/s]"
          ],
          "name": "stderr"
        },
        {
          "output_type": "stream",
          "text": [
            "=== Epoch: 49 ===\n"
          ],
          "name": "stdout"
        },
        {
          "output_type": "stream",
          "text": [
            "100%|██████████| 100/100 [00:14<00:00,  6.75it/s]\n",
            "  1%|          | 1/100 [00:00<00:14,  6.83it/s]"
          ],
          "name": "stderr"
        },
        {
          "output_type": "stream",
          "text": [
            "=== Epoch: 50 ===\n"
          ],
          "name": "stdout"
        },
        {
          "output_type": "stream",
          "text": [
            "100%|██████████| 100/100 [00:15<00:00,  6.65it/s]\n"
          ],
          "name": "stderr"
        }
      ]
    },
    {
      "cell_type": "code",
      "metadata": {
        "id": "LTInGl4lTdb0",
        "colab_type": "code",
        "colab": {}
      },
      "source": [
        "import matplotlib.pyplot as plt\n",
        "%matplotlib inline"
      ],
      "execution_count": 0,
      "outputs": []
    },
    {
      "cell_type": "code",
      "metadata": {
        "id": "ahQ3EuFUUSZ0",
        "colab_type": "code",
        "colab": {
          "base_uri": "https://localhost:8080/",
          "height": 282
        },
        "outputId": "b5c864e8-3f33-4131-d4cf-3866a2875c8d"
      },
      "source": [
        "plt.plot(losses)"
      ],
      "execution_count": 54,
      "outputs": [
        {
          "output_type": "execute_result",
          "data": {
            "text/plain": [
              "[<matplotlib.lines.Line2D at 0x7f5f36581630>]"
            ]
          },
          "metadata": {
            "tags": []
          },
          "execution_count": 54
        },
        {
          "output_type": "display_data",
          "data": {
            "image/png": "[encoded data removed]",
            "text/plain": [
              "<Figure size 432x288 with 1 Axes>"
            ]
          },
          "metadata": {
            "tags": [],
            "needs_background": "light"
          }
        }
      ]
    },
    {
      "cell_type": "code",
      "metadata": {
        "id": "cHobLaPlUTpp",
        "colab_type": "code",
        "colab": {}
      },
      "source": [
        ""
      ],
      "execution_count": 0,
      "outputs": []
    }
  ]
}